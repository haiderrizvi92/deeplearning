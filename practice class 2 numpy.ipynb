{
 "cells": [
  {
   "cell_type": "code",
   "execution_count": 12,
   "metadata": {},
   "outputs": [
    {
     "name": "stdout",
     "output_type": "stream",
     "text": [
      "[[[ 1  2  3]\n",
      "  [ 4  5  6]\n",
      "  [ 7  8  9]]\n",
      "\n",
      " [[10 11 12]\n",
      "  [13 14 15]\n",
      "  [16 17 18]]\n",
      "\n",
      " [[19 20 21]\n",
      "  [22 23 24]\n",
      "  [25 26 27]]]\n",
      "Diminsion: 3\n",
      "Type: int32\n",
      "Size: 27\n",
      "Itemsize: 4\n",
      "Shape: (3, 3, 3)\n"
     ]
    }
   ],
   "source": [
    "#multidimensional array \n",
    "l1 = np.arange(1,28).reshape((3,3,3))\n",
    "\n",
    "print(l1)\n",
    "print(\"Diminsion:\", l1.ndim)\n",
    "print(\"Type:\", l1.dtype)\n",
    "print(\"Size:\", l1.size)\n",
    "print(\"Itemsize:\", l1.itemsize)\n",
    "print(\"Shape:\", l1.shape)"
   ]
  },
  {
   "cell_type": "code",
   "execution_count": 2,
   "metadata": {},
   "outputs": [],
   "source": [
    "import numpy as np"
   ]
  },
  {
   "cell_type": "code",
   "execution_count": 4,
   "metadata": {},
   "outputs": [
    {
     "name": "stdout",
     "output_type": "stream",
     "text": [
      "[[ 1]\n",
      " [ 2]\n",
      " [ 3]\n",
      " [ 4]\n",
      " [ 5]\n",
      " [ 6]\n",
      " [ 7]\n",
      " [ 8]\n",
      " [ 9]\n",
      " [10]\n",
      " [11]\n",
      " [12]]\n",
      "Diminsion: 2\n",
      "Type: int32\n",
      "Size: 12\n",
      "Itemsize: 4\n",
      "Shape: (12, 1)\n"
     ]
    }
   ],
   "source": [
    "l1 = np.arange(1,13).reshape((12,1))\n",
    "\n",
    "print(l1)\n",
    "print(\"Diminsion:\", l1.ndim)\n",
    "print(\"Type:\", l1.dtype)\n",
    "print(\"Size:\", l1.size)\n",
    "print(\"Itemsize:\", l1.itemsize)\n",
    "print(\"Shape:\", l1.shape)"
   ]
  },
  {
   "cell_type": "markdown",
   "metadata": {},
   "source": [
    "# Boolen Operation"
   ]
  },
  {
   "cell_type": "code",
   "execution_count": 13,
   "metadata": {},
   "outputs": [
    {
     "data": {
      "text/plain": [
       "array([[[ 1,  2,  3],\n",
       "        [ 4,  5,  6],\n",
       "        [ 7,  8,  9]],\n",
       "\n",
       "       [[10, 11, 12],\n",
       "        [13, 14, 15],\n",
       "        [16, 17, 18]],\n",
       "\n",
       "       [[19, 20, 21],\n",
       "        [22, 23, 24],\n",
       "        [25, 26, 27]]])"
      ]
     },
     "execution_count": 13,
     "metadata": {},
     "output_type": "execute_result"
    }
   ],
   "source": [
    "a = np.arange(1,28).reshape((3,3,3))\n",
    "a"
   ]
  },
  {
   "cell_type": "code",
   "execution_count": 6,
   "metadata": {},
   "outputs": [
    {
     "data": {
      "text/plain": [
       "array([[[False, False,  True],\n",
       "        [False, False,  True],\n",
       "        [False, False,  True]],\n",
       "\n",
       "       [[False, False,  True],\n",
       "        [False, False,  True],\n",
       "        [False, False,  True]],\n",
       "\n",
       "       [[False, False,  True],\n",
       "        [False, False,  True],\n",
       "        [False, False,  True]]])"
      ]
     },
     "execution_count": 6,
     "metadata": {},
     "output_type": "execute_result"
    }
   ],
   "source": [
    "a % 3 == 0"
   ]
  },
  {
   "cell_type": "code",
   "execution_count": 15,
   "metadata": {},
   "outputs": [
    {
     "name": "stdout",
     "output_type": "stream",
     "text": [
      "[[[ 1  2  3]\n",
      "  [ 4  5  6]\n",
      "  [ 7  8  9]]\n",
      "\n",
      " [[10 11 12]\n",
      "  [13 14 15]\n",
      "  [16 17 18]]\n",
      "\n",
      " [[19 20 21]\n",
      "  [22 23 24]\n",
      "  [25 26 27]]]\n"
     ]
    },
    {
     "data": {
      "text/plain": [
       "array([ 3,  6,  9, 12, 15, 18, 21, 24, 27])"
      ]
     },
     "execution_count": 15,
     "metadata": {},
     "output_type": "execute_result"
    }
   ],
   "source": [
    "print(a)\n",
    "a[a%3==0]"
   ]
  },
  {
   "cell_type": "code",
   "execution_count": 8,
   "metadata": {},
   "outputs": [
    {
     "name": "stdout",
     "output_type": "stream",
     "text": [
      "[[[ 1  2  3]\n",
      "  [ 4  5  6]\n",
      "  [ 7  8  9]]\n",
      "\n",
      " [[10 11 12]\n",
      "  [13 14 15]\n",
      "  [16 17 18]]\n",
      "\n",
      " [[19 20 21]\n",
      "  [22 23 24]\n",
      "  [25 26 27]]]\n"
     ]
    },
    {
     "data": {
      "text/plain": [
       "array([15])"
      ]
     },
     "execution_count": 8,
     "metadata": {},
     "output_type": "execute_result"
    }
   ],
   "source": [
    "\n",
    "print(a)\n",
    "a[(a%3==0) & (a%5==0)]"
   ]
  },
  {
   "cell_type": "code",
   "execution_count": 19,
   "metadata": {},
   "outputs": [
    {
     "data": {
      "text/plain": [
       "array([ 1.28530113, -0.29704814,  2.23713504,  1.14068184,  1.62476399,\n",
       "       -0.15185877, -0.37316679,  0.20815456, -0.6523144 , -1.22722342])"
      ]
     },
     "execution_count": 19,
     "metadata": {},
     "output_type": "execute_result"
    }
   ],
   "source": [
    "a=np.random.randn((10))\n",
    "\n",
    "a\n"
   ]
  },
  {
   "cell_type": "code",
   "execution_count": 20,
   "metadata": {},
   "outputs": [
    {
     "data": {
      "text/plain": [
       "array([ 1.17342574, -0.54865051,  0.52536768,  0.59771723, -0.69242605,\n",
       "        1.23769058,  1.142219  , -0.53010838, -0.9000155 , -0.26182216])"
      ]
     },
     "execution_count": 20,
     "metadata": {},
     "output_type": "execute_result"
    }
   ],
   "source": [
    "b=np.random.randn((10))\n",
    "b"
   ]
  },
  {
   "cell_type": "code",
   "execution_count": 21,
   "metadata": {},
   "outputs": [
    {
     "data": {
      "text/plain": [
       "array([ 2.45872688, -0.84569865,  2.76250273,  1.73839907,  0.93233793,\n",
       "        1.08583181,  0.76905221, -0.32195382, -1.5523299 , -1.48904558])"
      ]
     },
     "execution_count": 21,
     "metadata": {},
     "output_type": "execute_result"
    }
   ],
   "source": [
    "a+b"
   ]
  },
  {
   "cell_type": "code",
   "execution_count": 22,
   "metadata": {},
   "outputs": [
    {
     "data": {
      "text/plain": [
       "array([ 0.11187539,  0.25160237,  1.71176736,  0.54296461,  2.31719004,\n",
       "       -1.38954935, -1.51538578,  0.73826294,  0.2477011 , -0.96540126])"
      ]
     },
     "execution_count": 22,
     "metadata": {},
     "output_type": "execute_result"
    }
   ],
   "source": [
    "a-b"
   ]
  },
  {
   "cell_type": "code",
   "execution_count": 23,
   "metadata": {},
   "outputs": [
    {
     "data": {
      "text/plain": [
       "array([1.651999  , 0.0882376 , 5.00477321, 1.30115505, 2.63985801,\n",
       "       0.02306109, 0.13925345, 0.04332832, 0.42551407, 1.50607732])"
      ]
     },
     "execution_count": 23,
     "metadata": {},
     "output_type": "execute_result"
    }
   ],
   "source": [
    "a*a"
   ]
  },
  {
   "cell_type": "code",
   "execution_count": 24,
   "metadata": {},
   "outputs": [
    {
     "data": {
      "text/plain": [
       "array([ 1.50820544,  0.16297562,  1.17531845,  0.68180519, -1.12502892,\n",
       "       -0.18795417, -0.42623819, -0.11034448,  0.58709307,  0.32131429])"
      ]
     },
     "execution_count": 24,
     "metadata": {},
     "output_type": "execute_result"
    }
   ],
   "source": [
    "a*b"
   ]
  },
  {
   "cell_type": "code",
   "execution_count": 25,
   "metadata": {},
   "outputs": [
    {
     "data": {
      "text/plain": [
       "array([ 0.77802779, -3.36645768,  0.44700028,  0.87666864,  0.61547401,\n",
       "       -6.58506587, -2.6797669 ,  4.80412248, -1.53300311, -0.81484755])"
      ]
     },
     "execution_count": 25,
     "metadata": {},
     "output_type": "execute_result"
    }
   ],
   "source": [
    "1/a"
   ]
  },
  {
   "cell_type": "code",
   "execution_count": 26,
   "metadata": {},
   "outputs": [
    {
     "data": {
      "text/plain": [
       "array([ True, False,  True,  True,  True, False, False,  True, False,\n",
       "       False])"
      ]
     },
     "execution_count": 26,
     "metadata": {},
     "output_type": "execute_result"
    }
   ],
   "source": [
    "a>0"
   ]
  },
  {
   "cell_type": "code",
   "execution_count": 27,
   "metadata": {},
   "outputs": [
    {
     "data": {
      "text/plain": [
       "array([1.28530113, 2.23713504, 1.14068184, 1.62476399, 0.20815456])"
      ]
     },
     "execution_count": 27,
     "metadata": {},
     "output_type": "execute_result"
    }
   ],
   "source": [
    "a[a>0]"
   ]
  },
  {
   "cell_type": "markdown",
   "metadata": {},
   "source": [
    "# indexing\n",
    "#boolean indexing\n",
    "#fancy indexing"
   ]
  },
  {
   "cell_type": "code",
   "execution_count": 28,
   "metadata": {},
   "outputs": [],
   "source": [
    "x=np.array([1,7,8,4,3])"
   ]
  },
  {
   "cell_type": "code",
   "execution_count": 30,
   "metadata": {},
   "outputs": [
    {
     "data": {
      "text/plain": [
       "8"
      ]
     },
     "execution_count": 30,
     "metadata": {},
     "output_type": "execute_result"
    }
   ],
   "source": [
    "x[2]"
   ]
  },
  {
   "cell_type": "code",
   "execution_count": 31,
   "metadata": {},
   "outputs": [
    {
     "data": {
      "text/plain": [
       "array([False,  True,  True, False, False])"
      ]
     },
     "execution_count": 31,
     "metadata": {},
     "output_type": "execute_result"
    }
   ],
   "source": [
    "x>5"
   ]
  },
  {
   "cell_type": "code",
   "execution_count": 32,
   "metadata": {},
   "outputs": [
    {
     "data": {
      "text/plain": [
       "array([7, 8])"
      ]
     },
     "execution_count": 32,
     "metadata": {},
     "output_type": "execute_result"
    }
   ],
   "source": [
    "x[x>5]"
   ]
  },
  {
   "cell_type": "code",
   "execution_count": 33,
   "metadata": {},
   "outputs": [
    {
     "data": {
      "text/plain": [
       "array([[ 1.70215073, -0.25767136,  1.54684306, -0.36948989, -1.06181483,\n",
       "        -1.25072811, -0.94733715,  1.73668383,  1.94626178, -0.5794571 ],\n",
       "       [ 0.9599821 , -0.20099602, -0.00811604, -0.24913197, -0.44487732,\n",
       "        -1.29994111,  1.29481508,  2.33003194, -1.242246  , -0.06738537],\n",
       "       [ 0.45185771, -0.37223299, -0.54226171,  0.26301755, -1.6481743 ,\n",
       "        -0.08649365,  0.18420607,  1.36030843, -0.76308266,  0.62473295],\n",
       "       [ 0.71205852, -1.60048297,  0.05294458,  1.03149612, -0.70253522,\n",
       "        -0.36453503, -0.95853718, -1.11951462,  1.06404683,  0.90859419],\n",
       "       [ 1.74365938,  0.25977412,  0.07175515,  0.69707199,  0.24870773,\n",
       "         0.04420915,  0.56538957,  2.36052461, -0.77034073, -0.59142985],\n",
       "       [-0.61883853,  0.18785271, -0.3680114 ,  0.60639176,  0.03844184,\n",
       "         0.09529269,  0.82296301,  0.38593394,  0.23432435,  0.0823166 ],\n",
       "       [-1.01420692, -0.14484481,  2.2027395 , -0.80669815, -0.57699945,\n",
       "        -0.25406849,  0.22575367, -1.12587344,  0.10881736, -0.23187019],\n",
       "       [ 0.16554144,  0.61753304, -0.46492742,  0.83543483,  0.39422813,\n",
       "        -0.23723809, -0.10691763, -0.45118677,  0.88351739,  0.53700881],\n",
       "       [ 0.25623081, -0.72366991,  1.71859625, -1.60241687, -1.36987375,\n",
       "         0.46455869, -1.35921113, -2.43341234,  1.00282941, -0.40902265],\n",
       "       [-1.12015337, -1.72122717,  1.16424602, -0.15885362, -0.81062635,\n",
       "        -0.00379509,  0.77591626, -0.82738627, -0.01893427,  0.61327926]])"
      ]
     },
     "execution_count": 33,
     "metadata": {},
     "output_type": "execute_result"
    }
   ],
   "source": [
    "y=np.random.randn(10,10)\n",
    "y"
   ]
  },
  {
   "cell_type": "code",
   "execution_count": 35,
   "metadata": {},
   "outputs": [
    {
     "data": {
      "text/plain": [
       "array([ 1.70215073, -0.25767136,  1.54684306, -0.36948989, -1.06181483,\n",
       "       -1.25072811, -0.94733715,  1.73668383,  1.94626178, -0.5794571 ])"
      ]
     },
     "execution_count": 35,
     "metadata": {},
     "output_type": "execute_result"
    }
   ],
   "source": [
    "y[0]"
   ]
  },
  {
   "cell_type": "code",
   "execution_count": 36,
   "metadata": {},
   "outputs": [
    {
     "data": {
      "text/plain": [
       "-1.0618148295345142"
      ]
     },
     "execution_count": 36,
     "metadata": {},
     "output_type": "execute_result"
    }
   ],
   "source": [
    "y[0][4]"
   ]
  },
  {
   "cell_type": "code",
   "execution_count": 37,
   "metadata": {},
   "outputs": [
    {
     "data": {
      "text/plain": [
       "0.263017550297195"
      ]
     },
     "execution_count": 37,
     "metadata": {},
     "output_type": "execute_result"
    }
   ],
   "source": [
    "y[2][3]"
   ]
  },
  {
   "cell_type": "markdown",
   "metadata": {},
   "source": [
    "# fancy slicing"
   ]
  },
  {
   "cell_type": "code",
   "execution_count": 38,
   "metadata": {},
   "outputs": [
    {
     "data": {
      "text/plain": [
       "array([[ 0.9599821 , -0.20099602, -0.00811604, -0.24913197, -0.44487732,\n",
       "        -1.29994111,  1.29481508,  2.33003194, -1.242246  , -0.06738537],\n",
       "       [ 0.71205852, -1.60048297,  0.05294458,  1.03149612, -0.70253522,\n",
       "        -0.36453503, -0.95853718, -1.11951462,  1.06404683,  0.90859419],\n",
       "       [-0.61883853,  0.18785271, -0.3680114 ,  0.60639176,  0.03844184,\n",
       "         0.09529269,  0.82296301,  0.38593394,  0.23432435,  0.0823166 ],\n",
       "       [ 0.16554144,  0.61753304, -0.46492742,  0.83543483,  0.39422813,\n",
       "        -0.23723809, -0.10691763, -0.45118677,  0.88351739,  0.53700881],\n",
       "       [-1.12015337, -1.72122717,  1.16424602, -0.15885362, -0.81062635,\n",
       "        -0.00379509,  0.77591626, -0.82738627, -0.01893427,  0.61327926]])"
      ]
     },
     "execution_count": 38,
     "metadata": {},
     "output_type": "execute_result"
    }
   ],
   "source": [
    "y[1:10:2] #odd rows"
   ]
  },
  {
   "cell_type": "code",
   "execution_count": 40,
   "metadata": {},
   "outputs": [
    {
     "data": {
      "text/plain": [
       "array([[ 1.70215073, -0.25767136,  1.54684306, -0.36948989, -1.06181483],\n",
       "       [ 0.9599821 , -0.20099602, -0.00811604, -0.24913197, -0.44487732],\n",
       "       [ 0.45185771, -0.37223299, -0.54226171,  0.26301755, -1.6481743 ],\n",
       "       [ 0.71205852, -1.60048297,  0.05294458,  1.03149612, -0.70253522],\n",
       "       [ 1.74365938,  0.25977412,  0.07175515,  0.69707199,  0.24870773],\n",
       "       [-0.61883853,  0.18785271, -0.3680114 ,  0.60639176,  0.03844184],\n",
       "       [-1.01420692, -0.14484481,  2.2027395 , -0.80669815, -0.57699945],\n",
       "       [ 0.16554144,  0.61753304, -0.46492742,  0.83543483,  0.39422813],\n",
       "       [ 0.25623081, -0.72366991,  1.71859625, -1.60241687, -1.36987375],\n",
       "       [-1.12015337, -1.72122717,  1.16424602, -0.15885362, -0.81062635]])"
      ]
     },
     "execution_count": 40,
     "metadata": {},
     "output_type": "execute_result"
    }
   ],
   "source": [
    "y[::,0:5]"
   ]
  },
  {
   "cell_type": "code",
   "execution_count": 43,
   "metadata": {},
   "outputs": [
    {
     "data": {
      "text/plain": [
       "array([[1., 1., 1., 1., 1.],\n",
       "       [1., 1., 1., 1., 1.],\n",
       "       [1., 1., 1., 1., 1.],\n",
       "       [1., 1., 1., 1., 1.],\n",
       "       [1., 1., 1., 1., 1.]])"
      ]
     },
     "execution_count": 43,
     "metadata": {},
     "output_type": "execute_result"
    }
   ],
   "source": [
    "v=np.ones((5,5))\n",
    "v"
   ]
  },
  {
   "cell_type": "code",
   "execution_count": 45,
   "metadata": {},
   "outputs": [
    {
     "data": {
      "text/plain": [
       "array([[1., 1., 1., 1., 1.],\n",
       "       [1., 0., 0., 0., 1.],\n",
       "       [1., 0., 0., 0., 1.],\n",
       "       [1., 0., 0., 0., 1.],\n",
       "       [1., 1., 1., 1., 1.]])"
      ]
     },
     "execution_count": 45,
     "metadata": {},
     "output_type": "execute_result"
    }
   ],
   "source": [
    "v[1:-1,1:-1]=0\n",
    "v"
   ]
  },
  {
   "cell_type": "code",
   "execution_count": 46,
   "metadata": {},
   "outputs": [
    {
     "data": {
      "text/plain": [
       "array([0., 0., 1.])"
      ]
     },
     "execution_count": 46,
     "metadata": {},
     "output_type": "execute_result"
    }
   ],
   "source": [
    "v[[1,3,4],[1,3,1]] #shows rows and colums"
   ]
  },
  {
   "cell_type": "code",
   "execution_count": 47,
   "metadata": {},
   "outputs": [
    {
     "data": {
      "text/plain": [
       "array([[ 1.90217929e+00,  9.40923008e-01, -3.95714756e-01,\n",
       "         1.17526787e+00,  1.46369414e+00],\n",
       "       [-1.08320536e+00, -5.72227866e-01, -1.41911472e+00,\n",
       "        -1.78109967e-02,  1.68256756e-01],\n",
       "       [ 1.65404624e+00, -3.60056697e-01, -6.03217349e-01,\n",
       "        -4.33616814e-01,  2.05548797e-01],\n",
       "       [-4.84371416e-02,  1.05801471e+00,  4.92953074e-01,\n",
       "         4.60656097e-02,  8.80846429e-01],\n",
       "       [-2.91412315e-01,  1.60865458e-01, -1.20794963e-01,\n",
       "        -5.83707855e-04, -2.56620553e+00]])"
      ]
     },
     "execution_count": 47,
     "metadata": {},
     "output_type": "execute_result"
    }
   ],
   "source": [
    "w=np.random.randn(5,5)\n",
    "w"
   ]
  },
  {
   "cell_type": "code",
   "execution_count": 49,
   "metadata": {},
   "outputs": [
    {
     "data": {
      "text/plain": [
       "array([[-1.08320536e+00, -5.72227866e-01, -1.41911472e+00,\n",
       "        -1.78109967e-02,  1.68256756e-01],\n",
       "       [-4.84371416e-02,  1.05801471e+00,  4.92953074e-01,\n",
       "         4.60656097e-02,  8.80846429e-01],\n",
       "       [-2.91412315e-01,  1.60865458e-01, -1.20794963e-01,\n",
       "        -5.83707855e-04, -2.56620553e+00]])"
      ]
     },
     "execution_count": 49,
     "metadata": {},
     "output_type": "execute_result"
    }
   ],
   "source": [
    "w[[1,3,4]]#shows rows"
   ]
  },
  {
   "cell_type": "code",
   "execution_count": 50,
   "metadata": {},
   "outputs": [
    {
     "data": {
      "text/plain": [
       "array([[ 9.40923008e-01,  1.17526787e+00,  1.46369414e+00],\n",
       "       [-5.72227866e-01, -1.78109967e-02,  1.68256756e-01],\n",
       "       [-3.60056697e-01, -4.33616814e-01,  2.05548797e-01],\n",
       "       [ 1.05801471e+00,  4.60656097e-02,  8.80846429e-01],\n",
       "       [ 1.60865458e-01, -5.83707855e-04, -2.56620553e+00]])"
      ]
     },
     "execution_count": 50,
     "metadata": {},
     "output_type": "execute_result"
    }
   ],
   "source": [
    "w[:,[1,3,4]] # shows colums "
   ]
  },
  {
   "cell_type": "markdown",
   "metadata": {},
   "source": [
    "# transposing arrays"
   ]
  },
  {
   "cell_type": "code",
   "execution_count": 51,
   "metadata": {},
   "outputs": [
    {
     "data": {
      "text/plain": [
       "array([[ 1.90217929e+00,  9.40923008e-01, -3.95714756e-01,\n",
       "         1.17526787e+00,  1.46369414e+00],\n",
       "       [-1.08320536e+00, -5.72227866e-01, -1.41911472e+00,\n",
       "        -1.78109967e-02,  1.68256756e-01],\n",
       "       [ 1.65404624e+00, -3.60056697e-01, -6.03217349e-01,\n",
       "        -4.33616814e-01,  2.05548797e-01],\n",
       "       [-4.84371416e-02,  1.05801471e+00,  4.92953074e-01,\n",
       "         4.60656097e-02,  8.80846429e-01],\n",
       "       [-2.91412315e-01,  1.60865458e-01, -1.20794963e-01,\n",
       "        -5.83707855e-04, -2.56620553e+00]])"
      ]
     },
     "execution_count": 51,
     "metadata": {},
     "output_type": "execute_result"
    }
   ],
   "source": [
    "w #5X5 ARRAY"
   ]
  },
  {
   "cell_type": "code",
   "execution_count": 52,
   "metadata": {},
   "outputs": [
    {
     "data": {
      "text/plain": [
       "array([[ 1.90217929e+00, -1.08320536e+00,  1.65404624e+00,\n",
       "        -4.84371416e-02, -2.91412315e-01],\n",
       "       [ 9.40923008e-01, -5.72227866e-01, -3.60056697e-01,\n",
       "         1.05801471e+00,  1.60865458e-01],\n",
       "       [-3.95714756e-01, -1.41911472e+00, -6.03217349e-01,\n",
       "         4.92953074e-01, -1.20794963e-01],\n",
       "       [ 1.17526787e+00, -1.78109967e-02, -4.33616814e-01,\n",
       "         4.60656097e-02, -5.83707855e-04],\n",
       "       [ 1.46369414e+00,  1.68256756e-01,  2.05548797e-01,\n",
       "         8.80846429e-01, -2.56620553e+00]])"
      ]
     },
     "execution_count": 52,
     "metadata": {},
     "output_type": "execute_result"
    }
   ],
   "source": [
    "w.T"
   ]
  },
  {
   "cell_type": "code",
   "execution_count": 56,
   "metadata": {},
   "outputs": [
    {
     "data": {
      "text/plain": [
       "array([[1, 2, 3],\n",
       "       [2, 3, 4],\n",
       "       [6, 7, 8]])"
      ]
     },
     "execution_count": 56,
     "metadata": {},
     "output_type": "execute_result"
    }
   ],
   "source": [
    "r=np.array([[1,2,3],[2,3,4],[6,7,8]])\n",
    "r"
   ]
  },
  {
   "cell_type": "code",
   "execution_count": 57,
   "metadata": {},
   "outputs": [
    {
     "data": {
      "text/plain": [
       "array([[1, 2, 6],\n",
       "       [2, 3, 7],\n",
       "       [3, 4, 8]])"
      ]
     },
     "execution_count": 57,
     "metadata": {},
     "output_type": "execute_result"
    }
   ],
   "source": [
    "r.T"
   ]
  },
  {
   "cell_type": "code",
   "execution_count": 58,
   "metadata": {},
   "outputs": [
    {
     "data": {
      "text/plain": [
       "array([[1, 2, 3],\n",
       "       [2, 3, 4],\n",
       "       [6, 7, 8]])"
      ]
     },
     "execution_count": 58,
     "metadata": {},
     "output_type": "execute_result"
    }
   ],
   "source": [
    "r.T.T"
   ]
  },
  {
   "cell_type": "code",
   "execution_count": 59,
   "metadata": {},
   "outputs": [
    {
     "data": {
      "text/plain": [
       "array([[1, 2, 6],\n",
       "       [2, 3, 7],\n",
       "       [3, 4, 8]])"
      ]
     },
     "execution_count": 59,
     "metadata": {},
     "output_type": "execute_result"
    }
   ],
   "source": [
    "r.T.T.T"
   ]
  },
  {
   "cell_type": "code",
   "execution_count": null,
   "metadata": {},
   "outputs": [],
   "source": []
  }
 ],
 "metadata": {
  "kernelspec": {
   "display_name": "Python 3",
   "language": "python",
   "name": "python3"
  },
  "language_info": {
   "codemirror_mode": {
    "name": "ipython",
    "version": 3
   },
   "file_extension": ".py",
   "mimetype": "text/x-python",
   "name": "python",
   "nbconvert_exporter": "python",
   "pygments_lexer": "ipython3",
   "version": "3.7.6"
  }
 },
 "nbformat": 4,
 "nbformat_minor": 4
}
